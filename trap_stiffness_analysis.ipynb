{
 "cells": [
  {
   "cell_type": "markdown",
   "metadata": {},
   "source": [
    "Acoustic Trap stiffness analysis"
   ]
  },
  {
   "cell_type": "code",
   "execution_count": 3,
   "metadata": {},
   "outputs": [],
   "source": [
    "from acoustools.Mesh import load_scatterer\n",
    "from acoustools.Utilities import TOP_BOARD, create_points\n",
    "from acoustools.Solvers import wgs, gorkov_target\n",
    "from acoustools.BEM import compute_E, propagate_BEM_pressure, BEM_gorkov_analytical, propagate_BEM, get_cache_or_compute_H\n",
    "from acoustools.Visualiser import Visualise\n",
    "import acoustools.Constants as c\n",
    "from BEM_trap_force import BEM_trap_force\n",
    "from BEM_trap_stiffness import BEM_trap_stiffness\n",
    "\n",
    "import vedo, torch"
   ]
  },
  {
   "cell_type": "code",
   "execution_count": 4,
   "metadata": {},
   "outputs": [],
   "source": [
    "path = r\"C:\\Users\\Abdullah Saeed\\Documents\\BEMMedia\\Nonflat-lam2.stl\"\n",
    "\n",
    "reflector = load_scatterer(path,dz=-0.05)\n",
    "\n",
    "p = create_points(1,1,x=0,y=0,z=0)\n",
    "# p = create_points(5,1,x=0,y=0,z=0)\n",
    "\n",
    "H = get_cache_or_compute_H(reflector, TOP_BOARD,path=r\"C:\\Users\\Abdullah Saeed\\Documents\\BEMMedia\")\n",
    "\n",
    "E = compute_E(reflector,points=p,board=TOP_BOARD,path=r\"C:\\Users\\Abdullah Saeed\\Documents\\BEMMedia\",H=H)\n",
    "# x = wgs(p,A=E)\n",
    "x = gorkov_target(p, board=TOP_BOARD, U_targets=torch.tensor([-7.5e-6]), reflector=reflector, path=r\"C:\\Users\\Abdullah Saeed\\Documents\\BEMMedia\")\n",
    "\n",
    "A = torch.tensor((-0.09,0, 0.09))\n",
    "B = torch.tensor((0.09,0, 0.09))\n",
    "C = torch.tensor((-0.09,0, -0.09))\n",
    "normal = (0,1,0)\n",
    "origin = (0,0,0)\n",
    "\n",
    "# Visualise(A,B,C, x, colour_functions=[propagate_BEM_pressure],colour_function_args=[{\"scatterer\":reflector,\"board\":TOP_BOARD,\"path\":r\"C:\\Users\\Abdullah Saeed\\Documents\\BEMMedia\"}],vmax=5000, show=True,res=[256,256],points=p)\n",
    "\n",
    "trap_up = p\n",
    "trap_up[:,2] += c.wavelength/4"
   ]
  },
  {
   "cell_type": "code",
   "execution_count": null,
   "metadata": {},
   "outputs": [],
   "source": [
    "Visualise(A,B,C, x, colour_functions=[propagate_BEM_pressure],colour_function_args=[{\"scatterer\":reflector,\"board\":TOP_BOARD,\"path\":r\"C:\\Users\\Abdullah Saeed\\Documents\\BEMMedia\",'H':H}],vmax=5000, show=True,res=[256,256],points=trap_up)"
   ]
  },
  {
   "cell_type": "code",
   "execution_count": null,
   "metadata": {},
   "outputs": [
    {
     "name": "stdout",
     "output_type": "stream",
     "text": [
      "trap up:  tensor([[[0.0000],\n",
      "         [0.0000],\n",
      "         [0.0021]]])\n",
      "trap stiffness:  -2.0186234687571414\n"
     ]
    }
   ],
   "source": [
    "print(\"trap up: \", trap_up)\n",
    "\n",
    "print(\"trap stiffness: \", BEM_trap_stiffness(x,trap_up,reflector,TOP_BOARD,path=r\"C:\\Users\\Abdullah Saeed\\Documents\\BEMMedia\",H=H))"
   ]
  }
 ],
 "metadata": {
  "kernelspec": {
   "display_name": "Python 3",
   "language": "python",
   "name": "python3"
  },
  "language_info": {
   "codemirror_mode": {
    "name": "ipython",
    "version": 3
   },
   "file_extension": ".py",
   "mimetype": "text/x-python",
   "name": "python",
   "nbconvert_exporter": "python",
   "pygments_lexer": "ipython3",
   "version": "3.11.6"
  }
 },
 "nbformat": 4,
 "nbformat_minor": 2
}
